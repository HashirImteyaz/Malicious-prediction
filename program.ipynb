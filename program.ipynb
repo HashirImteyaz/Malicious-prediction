{
 "cells": [
  {
   "cell_type": "code",
   "execution_count": 1,
   "metadata": {},
   "outputs": [
    {
     "name": "stderr",
     "output_type": "stream",
     "text": [
      "C:\\Users\\hashi\\AppData\\Local\\Temp\\ipykernel_2512\\2162656668.py:1: DeprecationWarning: \n",
      "Pyarrow will become a required dependency of pandas in the next major release of pandas (pandas 3.0),\n",
      "(to allow more performant data types, such as the Arrow string type, and better interoperability with other libraries)\n",
      "but was not found to be installed on your system.\n",
      "If this would cause problems for you,\n",
      "please provide us feedback at https://github.com/pandas-dev/pandas/issues/54466\n",
      "        \n",
      "  import pandas as pd\n"
     ]
    }
   ],
   "source": [
    "import pandas as pd\n",
    "import numpy as np"
   ]
  },
  {
   "cell_type": "code",
   "execution_count": 2,
   "metadata": {},
   "outputs": [
    {
     "name": "stdout",
     "output_type": "stream",
     "text": [
      "        IP address  Port number protocol\n",
      "0   119.115.103.96         2001      tcp\n",
      "1  103.126.161.114         2140      udp\n",
      "2    117.82.77.153         2989      tcp\n",
      "3    162.247.74.74        12346      tcp\n",
      "4    171.25.193.77        20433      udp\n",
      "5    54.37.203.143         4950      tcp\n",
      "6    192.142.133.7         5390      DNS\n",
      "7   58.215.218.170         8443     HTTP\n"
     ]
    }
   ],
   "source": [
    "reading=pd.read_csv(\"malicious.txt\", sep=\"\\t\")\n",
    "print(reading)"
   ]
  },
  {
   "cell_type": "code",
   "execution_count": 3,
   "metadata": {},
   "outputs": [
    {
     "name": "stdout",
     "output_type": "stream",
     "text": [
      "['Frame 13: 55 bytes on wire (440 bits), 55 bytes captured (440 bits) on the\\n', 'interface.\\n', 'Source MAC: AzureWav6c : bc : e5(dc : f 5 : 05 : 6c : bc : e5)\\n', 'Destination MAC: ca:a5:be:7e:a2:22 (ca:a5:be:7e:a2:22)\\n', 'Internet Protocol Version 4\\n', 'Source IP: 117.82.77.153\\n', 'Destination IP: 142.250.193.138\\n', 'Transmission Control Protocol, Src Port: 5390, Dst Port: 443, Seq: 1,\\n', 'Ack: 1, Len: 1\\n', 'Source Port: 5390\\n', 'Destination Port: 443\\n', 'TCP payload (1 byte)']\n",
      "Frame 13: 55 bytes on wire (440 bits), 55 bytes captured (440 bits) on the\n",
      "interface.\n",
      "Source MAC: AzureWav6c : bc : e5(dc : f 5 : 05 : 6c : bc : e5)\n",
      "Destination MAC: ca:a5:be:7e:a2:22 (ca:a5:be:7e:a2:22)\n",
      "Internet Protocol Version 4\n",
      "Source IP: 117.82.77.153\n",
      "Destination IP: 142.250.193.138\n",
      "Transmission Control Protocol, Src Port: 5390, Dst Port: 443, Seq: 1,\n",
      "Ack: 1, Len: 1\n",
      "Source Port: 5390\n",
      "Destination Port: 443\n",
      "TCP payload (1 byte)\n"
     ]
    }
   ],
   "source": [
    "packet=open('data.txt',\"r\")\n",
    "data=packet.readlines()\n",
    "print(data)\n",
    "StringData=\"\".join(d for d in data)\n",
    "print(StringData)"
   ]
  },
  {
   "cell_type": "code",
   "execution_count": 4,
   "metadata": {},
   "outputs": [
    {
     "name": "stdout",
     "output_type": "stream",
     "text": [
      "Number of rows ad cols are  8 3\n",
      "Malicious packet\n",
      "Malicious packet\n",
      "Malicious packet\n",
      "Malicious packet\n",
      "Malicious packet\n",
      "Malicious packet\n",
      "Malicious packet\n",
      "Malicious packet\n"
     ]
    }
   ],
   "source": [
    "rows,cols=reading.shape\n",
    "print(\"Number of rows ad cols are \" ,rows ,cols)\n",
    "flag=0\n",
    "for i in range(rows):\n",
    "    for j in range(cols-1):\n",
    "        if str(reading.iloc[i,j] in StringData):\n",
    "            flag=1\n",
    "            \n",
    "            if flag==1:\n",
    "                print(\"Malicious packet\")\n",
    "                break\n",
    "if flag==0:\n",
    "    print(\"Normal packet\")"
   ]
  },
  {
   "cell_type": "code",
   "execution_count": null,
   "metadata": {},
   "outputs": [],
   "source": []
  }
 ],
 "metadata": {
  "kernelspec": {
   "display_name": "Python 3",
   "language": "python",
   "name": "python3"
  },
  "language_info": {
   "codemirror_mode": {
    "name": "ipython",
    "version": 3
   },
   "file_extension": ".py",
   "mimetype": "text/x-python",
   "name": "python",
   "nbconvert_exporter": "python",
   "pygments_lexer": "ipython3",
   "version": "3.11.2"
  }
 },
 "nbformat": 4,
 "nbformat_minor": 2
}
